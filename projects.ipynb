{
  "cells": [
    {
      "cell_type": "raw",
      "metadata": {},
      "source": [
        "---\n",
        "title: \"Projects\"\n",
        "---"
      ],
      "id": "10b66fa2"
    },
    {
      "cell_type": "markdown",
      "metadata": {},
      "source": [
        "```{css}\n",
        "#| echo: false\n",
        "p {\n",
        "  text-align: justify\n",
        "}\n",
        "```\n",
        "\n",
        "\n",
        "1. **TÜBİTAK 1002/A**, Ticari Aktif Karbon Kullanılarak Boya Gideriminin Makine Öğrenmesi Temelli Analizi ile Açık Kaynak Kodlu Web Tabanlı İnteraktif Bir Uygulama Geliştirilmesi, *Araştırmacı*\n",
        "\n",
        "2. **TÜBİTAK 1002/A**, ICESat-2/Atlas ve Havasal Lidar Verilerinden Bina Yüksekliklerinin Hesaplanmasında Makine Öğrenmesi Algoritmalarının Performans Analizi, *Araştırmacı*\n",
        "\n",
        "3. **TÜBİTAK 1002/C**, 6 Şubat 2023 Kahramanmaraş (Pazarcık 7.7 Mw. ve Elbistan 7.6 Mw.) Depremlerinde Adana İlinde Hasarlı Yapıların Uzaktan Algılama ve Açık Kaynak Kodlu CBS Kullanılarak Tespit Edilmesi, *Araştırmacı*\n",
        "\n",
        "4. **KOÜ BAP**, Biyoklimatik Konfor Alanlarının Yapay Zekâ ile Modellenmesi, *Araştırmacı*\n",
        "\n",
        "5. **Kültür ve Turizm Bakanlığı**, Burdur İli, Gölhisar İlçesi, Uylupınar Yerleşmesinde (Erken Kibyra) ve Altınyayla, Çavdır, Karamanlı, Tefenni, Kemer İlçelerinde, Arkeolojik Yüzey Araştırmalası Projesi, *Araştırmacı*\n",
        "\n",
        "6. **TÜBİTAK 1001**, Çok Bandlı Insar ve GNSS Tekniği ile Doğu Marmara (İzmit Körfezi) Düşey Yönlü Yer Değiştirmelerin İzlenmesi, Zemin Çökmeleri ile Bina Yoğunluğu ve Sıvılaşma İlişkisinin Araştırılması, *Bursiyer*\n",
        "\n",
        "7. **TÜBİTAK 1002/A**, İnsansız Hava Aracı (İHA)'ndan Elde Edilen Topografik Veriler ile Adam Kayaları ve Çevresinin Kaya Düşme Potansiyelinin Değerlendirilmesi, *Bursiyer*\n",
        "\n",
        "8. **ASÜ BAP**, Mobil ve Yersel Lidar Sistemlerinin Kaya Düşme Riski Olan Alanlarda Kullanımı ve Doğruluklarının Karşılaştırılması: Yaprakhisar, Aksaray İli Örneği, *Araştırmacı*\n",
        "\n",
        "9. **ASÜ BAP**, İnsansız Hava Taşıtı (UAV) ve Yersel Lazer Veri Entegrasyonu ile Somuncu Baba Türbesi ve Külliyesinin 3B Modellenmesi ve Animasyonu, *Araştırmacı*\n",
        "\n",
        "10. **TÜBİTAK 1002**, Sümela Manastırı ve Civarının Kaya Düşmeleri Riskinin Belirlenmesi, *Bursiyer*\n",
        "\n",
        "11. **TÜBİTAK 2209/A**, Konya İli Sınırları İçerisinde Uzaktan Algılama Yöntemleriyle Rekolte Tahminin Gerçekleştirilmesi, *Yürütücü*"
      ],
      "id": "fe80294d"
    }
  ],
  "metadata": {
    "kernelspec": {
      "display_name": "Python 3",
      "language": "python",
      "name": "python3"
    }
  },
  "nbformat": 4,
  "nbformat_minor": 5
}